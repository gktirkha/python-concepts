{
 "cells": [
  {
   "cell_type": "markdown",
   "metadata": {},
   "source": [
    "Basic OOP"
   ]
  },
  {
   "cell_type": "code",
   "execution_count": 1,
   "metadata": {},
   "outputs": [],
   "source": [
    "class Dog:                                  # Defining Class\n",
    "    # Constructor, It should have self keyword\n",
    "    def __init__(self, name: str, spots: bool, breed: str) -> None:\n",
    "        self.name = name                    # declaring fields\n",
    "        self.spots = spots\n",
    "        self.breed = breed\n",
    "\n",
    "    def __str__(self) -> str:               # methods that start and ends with '__' are called dunder methods or magic methods, this function is called when object is casted to str\n",
    "        myString = {\"name\": self.name,\n",
    "                    \"HasSpots\": self.spots,\n",
    "                    \"breed\": self.breed\n",
    "                    }\n",
    "        return str(myString)\n",
    "\n",
    "    # every method in class should have self argument, with the help of which we can access class fields\n",
    "    def bark(self) -> None:\n",
    "        print(\"Bark my name is {} and breed is {} and my spot status is {}\".format(\n",
    "            self.name, self.breed, self.spots))\n"
   ]
  },
  {
   "cell_type": "code",
   "execution_count": 2,
   "metadata": {},
   "outputs": [
    {
     "name": "stdout",
     "output_type": "stream",
     "text": [
      "{'name': 'Tommy', 'HasSpots': False, 'breed': 'German Shepherd'}\n",
      "Bark my name is Tommy and breed is German Shepherd and my spot status is False\n"
     ]
    }
   ],
   "source": [
    "my_dog = Dog(spots=False, name=\"Tommy\",\n",
    "             breed=\"German Shepherd\")           # creating object\n",
    "print(my_dog)                                   # __str__ method is called\n",
    "my_dog.bark()                                   # calling methods\n"
   ]
  },
  {
   "cell_type": "markdown",
   "metadata": {},
   "source": [
    "> Another Example"
   ]
  },
  {
   "cell_type": "code",
   "execution_count": 3,
   "metadata": {},
   "outputs": [],
   "source": [
    "class Circle:\n",
    "\n",
    "    def __init__(self, radius: float = 1) -> None:\n",
    "        self.radius = radius\n",
    "\n",
    "    def get_circumference(self) -> float:\n",
    "        return (2 * 22 * self.radius)/7\n",
    "\n",
    "    def get_area(self) -> float:\n",
    "        return (22 * self.radius * self.radius)/7\n"
   ]
  },
  {
   "cell_type": "code",
   "execution_count": 4,
   "metadata": {},
   "outputs": [
    {
     "name": "stdout",
     "output_type": "stream",
     "text": [
      "44.0\n"
     ]
    }
   ],
   "source": [
    "print(Circle(radius=7).get_circumference())\n"
   ]
  },
  {
   "cell_type": "markdown",
   "metadata": {},
   "source": [
    "Inheritance"
   ]
  },
  {
   "cell_type": "code",
   "execution_count": 5,
   "metadata": {},
   "outputs": [],
   "source": [
    "class Animal:       # Base class\n",
    "    def __init__(self) -> None:\n",
    "        print(\"Animal Created\")\n",
    "\n",
    "    def who_am_i(self) -> None:\n",
    "        print(\"I Am Animal\")\n",
    "\n",
    "    def eat(self) -> None:\n",
    "        print(\"I Am Eating\")\n"
   ]
  },
  {
   "cell_type": "code",
   "execution_count": 6,
   "metadata": {},
   "outputs": [],
   "source": [
    "class Dog(Animal):                  # Put class to be extended in ()\n",
    "    def __init__(self, name: str) -> None:\n",
    "        super().__init__()\n",
    "        print(\"Dog Created\")\n",
    "        self.name = name\n",
    "\n",
    "    def who_am_i(self) -> None:     # Overriding a method\n",
    "        print(\"I Am Dog\")\n",
    "\n",
    "    def bark(self) -> None:         # Additional Method\n",
    "        print(\"Barking\")\n",
    "\n",
    "    def __str__(self) -> str:       # Overriding Dunder / Magic Method\n",
    "        return f'I am a dog and my name is {self.name}'\n"
   ]
  },
  {
   "cell_type": "code",
   "execution_count": 7,
   "metadata": {},
   "outputs": [
    {
     "name": "stdout",
     "output_type": "stream",
     "text": [
      "Animal Created\n",
      "Dog Created\n",
      "I Am Dog\n",
      "I am a dog and my name is Shivam Sharma\n",
      "Barking\n",
      "I Am Eating\n"
     ]
    }
   ],
   "source": [
    "dog = Dog(name=\"Shivam Sharma\")\n",
    "dog.who_am_i()  # Overridden Method \n",
    "print(dog)      # Overridden Dunder / Magic Method\n",
    "dog.bark()      # Additional Method\n",
    "dog.eat()       # Parent Methods are accessible in child class\n"
   ]
  }
 ],
 "metadata": {
  "kernelspec": {
   "display_name": "Python 3",
   "language": "python",
   "name": "python3"
  },
  "language_info": {
   "codemirror_mode": {
    "name": "ipython",
    "version": 3
   },
   "file_extension": ".py",
   "mimetype": "text/x-python",
   "name": "python",
   "nbconvert_exporter": "python",
   "pygments_lexer": "ipython3",
   "version": "3.10.12"
  },
  "orig_nbformat": 4
 },
 "nbformat": 4,
 "nbformat_minor": 2
}
