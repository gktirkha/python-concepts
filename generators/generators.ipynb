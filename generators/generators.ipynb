{
 "cells": [
  {
   "cell_type": "markdown",
   "metadata": {},
   "source": [
    "# Python Generators\n",
    "\n",
    "> Generators are useful when we want to produce a large sequence of values, but we don't want to store all of them in memory at once."
   ]
  },
  {
   "cell_type": "markdown",
   "metadata": {},
   "source": [
    "1. **Code Without Generator**"
   ]
  },
  {
   "cell_type": "code",
   "execution_count": 1,
   "metadata": {},
   "outputs": [],
   "source": [
    "def get_table(number: int) -> [int]:\n",
    "    table = []\n",
    "    for i in range(1, 11):\n",
    "        table.append(i*number)\n",
    "\n",
    "    return table\n"
   ]
  },
  {
   "cell_type": "code",
   "execution_count": 2,
   "metadata": {},
   "outputs": [
    {
     "name": "stdout",
     "output_type": "stream",
     "text": [
      "2, 4, 6, 8, 10, 12, 14, 16, 18, 20, "
     ]
    }
   ],
   "source": [
    "for i in get_table(2):\n",
    "    print(i, end=\", \")\n"
   ]
  },
  {
   "cell_type": "markdown",
   "metadata": {},
   "source": [
    "As we can se in above method we had to temporarily store the whole list in memory, now imagine it with a pretty large number, it will take a lot of memory, to overcome this we use generators "
   ]
  },
  {
   "cell_type": "markdown",
   "metadata": {},
   "source": [
    "2. Code With Generator"
   ]
  },
  {
   "cell_type": "code",
   "execution_count": 3,
   "metadata": {},
   "outputs": [],
   "source": [
    "def get_table(number: int):\n",
    "    for i in range(1, 11):\n",
    "        yield i * number\n"
   ]
  },
  {
   "cell_type": "code",
   "execution_count": 4,
   "metadata": {},
   "outputs": [
    {
     "name": "stdout",
     "output_type": "stream",
     "text": [
      "2, 4, 6, 8, 10, 12, 14, 16, 18, 20, "
     ]
    }
   ],
   "source": [
    "for i in get_table(2):\n",
    "    print(i, end=\", \")\n"
   ]
  },
  {
   "cell_type": "markdown",
   "metadata": {},
   "source": [
    "The output of the program is un effected, but this approach is memory efficient, As we are not storing the list"
   ]
  },
  {
   "cell_type": "markdown",
   "metadata": {},
   "source": [
    "```Example Code For Fibonacci series```"
   ]
  },
  {
   "cell_type": "code",
   "execution_count": 5,
   "metadata": {},
   "outputs": [],
   "source": [
    "def get_fibonacci(number: int):\n",
    "    a = 0\n",
    "    b = 1\n",
    "    for _ in range(number):\n",
    "        yield a\n",
    "        a = b\n",
    "        b = a+1\n"
   ]
  },
  {
   "cell_type": "code",
   "execution_count": 6,
   "metadata": {},
   "outputs": [
    {
     "name": "stdout",
     "output_type": "stream",
     "text": [
      "0, 1, 2, 3, 4, 5, 6, 7, 8, 9, 10, 11, 12, 13, 14, 15, 16, 17, 18, 19, "
     ]
    }
   ],
   "source": [
    "for i in get_fibonacci(20):\n",
    "    print(i, end=\", \")\n"
   ]
  },
  {
   "cell_type": "markdown",
   "metadata": {},
   "source": [
    "```Using next function```"
   ]
  },
  {
   "cell_type": "markdown",
   "metadata": {},
   "source": [
    "The next function retrieves the next value of a generator, If there is no next value it will throw **StopIteration** exception"
   ]
  },
  {
   "cell_type": "code",
   "execution_count": 7,
   "metadata": {},
   "outputs": [
    {
     "name": "stdout",
     "output_type": "stream",
     "text": [
      "0, 1, 2, \n",
      "except Bloc of type StopIteration\n"
     ]
    }
   ],
   "source": [
    "fibonacci = get_fibonacci(3)\n",
    "try:\n",
    "    while True:\n",
    "        print(next(fibonacci), end=\", \")\n",
    "\n",
    "except Exception as e:\n",
    "    print(f\"\\nexcept Bloc of type {e.__class__.__name__}\")\n"
   ]
  },
  {
   "cell_type": "markdown",
   "metadata": {},
   "source": [
    "Making String iterable"
   ]
  },
  {
   "cell_type": "code",
   "execution_count": 8,
   "metadata": {},
   "outputs": [
    {
     "name": "stdout",
     "output_type": "stream",
     "text": [
      "H, e, l, l, o, \n",
      "except Bloc of type StopIteration\n"
     ]
    }
   ],
   "source": [
    "hello = \"Hello\"\n",
    "hello = iter(hello)\n",
    "\n",
    "try:\n",
    "    while True:\n",
    "        print(next(hello), end=\", \")\n",
    "\n",
    "except Exception as e:\n",
    "    print(f\"\\nexcept Bloc of type {e.__class__.__name__}\")\n"
   ]
  }
 ],
 "metadata": {
  "kernelspec": {
   "display_name": "Python 3",
   "language": "python",
   "name": "python3"
  },
  "language_info": {
   "codemirror_mode": {
    "name": "ipython",
    "version": 3
   },
   "file_extension": ".py",
   "mimetype": "text/x-python",
   "name": "python",
   "nbconvert_exporter": "python",
   "pygments_lexer": "ipython3",
   "version": "3.10.12"
  },
  "orig_nbformat": 4
 },
 "nbformat": 4,
 "nbformat_minor": 2
}
