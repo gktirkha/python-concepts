{
 "cells": [
  {
   "cell_type": "markdown",
   "metadata": {},
   "source": [
    "Module containing os related functions"
   ]
  },
  {
   "cell_type": "code",
   "execution_count": 1,
   "metadata": {},
   "outputs": [],
   "source": [
    "import os\n"
   ]
  },
  {
   "cell_type": "markdown",
   "metadata": {},
   "source": [
    "Module containing move and other methods\n",
    "> shutil = shell util"
   ]
  },
  {
   "cell_type": "code",
   "execution_count": 2,
   "metadata": {},
   "outputs": [],
   "source": [
    "import shutil\n"
   ]
  },
  {
   "cell_type": "markdown",
   "metadata": {},
   "source": [
    "Module containing methods related to paths"
   ]
  },
  {
   "cell_type": "code",
   "execution_count": 3,
   "metadata": {},
   "outputs": [],
   "source": [
    "from pathlib import Path\n"
   ]
  },
  {
   "cell_type": "markdown",
   "metadata": {},
   "source": [
    "Creating file if it doesn't exist"
   ]
  },
  {
   "cell_type": "code",
   "execution_count": 4,
   "metadata": {},
   "outputs": [],
   "source": [
    "with open(\"practice.txt\", mode=\"w+\") as myfile:\n",
    "    myfile.write(\"This Is Test\")\n"
   ]
  },
  {
   "cell_type": "markdown",
   "metadata": {},
   "source": [
    "Getting current directory\n",
    "> cwd = current working directory"
   ]
  },
  {
   "cell_type": "code",
   "execution_count": 5,
   "metadata": {},
   "outputs": [
    {
     "data": {
      "text/plain": [
       "'/media/gtirkha/Gautam/Programming/Learning/python-concepts/file_management'"
      ]
     },
     "execution_count": 5,
     "metadata": {},
     "output_type": "execute_result"
    }
   ],
   "source": [
    "os.getcwd()\n"
   ]
  },
  {
   "cell_type": "markdown",
   "metadata": {},
   "source": [
    "Getting all directories in cwd"
   ]
  },
  {
   "cell_type": "code",
   "execution_count": 6,
   "metadata": {},
   "outputs": [
    {
     "data": {
      "text/plain": [
       "['Example_Top_Level', 'file_management.ipynb', 'practice.txt']"
      ]
     },
     "execution_count": 6,
     "metadata": {},
     "output_type": "execute_result"
    }
   ],
   "source": [
    "os.listdir()\n"
   ]
  },
  {
   "cell_type": "markdown",
   "metadata": {},
   "source": [
    "Moving a file"
   ]
  },
  {
   "cell_type": "code",
   "execution_count": 7,
   "metadata": {},
   "outputs": [
    {
     "data": {
      "text/plain": [
       "['.git',\n",
       " '.gitignore',\n",
       " '.vscode',\n",
       " 'basic_io',\n",
       " 'collections_module',\n",
       " 'decorators',\n",
       " 'file_management',\n",
       " 'generators',\n",
       " 'module',\n",
       " 'oop_practice',\n",
       " 'practice.txt',\n",
       " 'README.md',\n",
       " 'war_game']"
      ]
     },
     "execution_count": 7,
     "metadata": {},
     "output_type": "execute_result"
    }
   ],
   "source": [
    "flag = False\n",
    "\n",
    "# Checking practice.txt if it exists, then moving to parent folder\n",
    "practice = Path(\"practice.txt\")\n",
    "if practice.exists() and (flag == False):\n",
    "    shutil.move(\"./practice.txt\", \"../practice.txt\")\n",
    "    flag = True\n",
    "\n",
    "# Checking ../practice.txt if it exists, then moving to cwd\n",
    "practice = Path(\"../practice.txt\")\n",
    "if practice.exists() and (flag == False):\n",
    "    shutil.move(\"../practice.txt\", \"./practice.txt\")\n",
    "    flag = True\n",
    "\n",
    "os.listdir(\"..\")\n"
   ]
  },
  {
   "cell_type": "code",
   "execution_count": 8,
   "metadata": {},
   "outputs": [
    {
     "name": "stdout",
     "output_type": "stream",
     "text": [
      ".\n",
      "sub folders\n",
      "\t Example_Top_Level\n",
      "Files\n",
      "\t Example_Top_Level\n",
      "\n",
      "./Example_Top_Level\n",
      "sub folders\n",
      "\t Mid-Example-One\n",
      "Files\n",
      "\t Mid-Example-One\n",
      "\n",
      "./Example_Top_Level/Mid-Example-One\n",
      "sub folders\n",
      "\t Bottom-Level-One\n",
      "\t Bottom-Level-Two\n",
      "Files\n",
      "\t Bottom-Level-One\n",
      "\t Bottom-Level-Two\n",
      "\n",
      "./Example_Top_Level/Mid-Example-One/Bottom-Level-One\n",
      "sub folders\n",
      "Files\n",
      "\n",
      "./Example_Top_Level/Mid-Example-One/Bottom-Level-Two\n",
      "sub folders\n",
      "Files\n",
      "\n"
     ]
    }
   ],
   "source": [
    "for folder, sub_folder, files in os.walk(\".\"):\n",
    "    print(folder)\n",
    "    print(\"sub folders\")\n",
    "    for i in sub_folder:\n",
    "        print(f\"\\t {i}\")\n",
    "\n",
    "    print(\"Files\")\n",
    "    for i in sub_folder:\n",
    "        print(f\"\\t {i}\")\n",
    "\n",
    "    print()\n",
    "\n"
   ]
  }
 ],
 "metadata": {
  "kernelspec": {
   "display_name": "Python 3",
   "language": "python",
   "name": "python3"
  },
  "language_info": {
   "codemirror_mode": {
    "name": "ipython",
    "version": 3
   },
   "file_extension": ".py",
   "mimetype": "text/x-python",
   "name": "python",
   "nbconvert_exporter": "python",
   "pygments_lexer": "ipython3",
   "version": "3.10.12"
  },
  "orig_nbformat": 4
 },
 "nbformat": 4,
 "nbformat_minor": 2
}
