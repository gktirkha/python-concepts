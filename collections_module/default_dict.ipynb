{
 "cells": [
  {
   "cell_type": "markdown",
   "metadata": {},
   "source": [
    "# DefaultDict\n",
    "A DefaultDict is also a sub-class to dictionary. It is used to provide some default values for the key that does not exist and never raises a KeyError."
   ]
  },
  {
   "cell_type": "code",
   "execution_count": 1,
   "metadata": {},
   "outputs": [],
   "source": [
    "from collections import defaultdict\n"
   ]
  },
  {
   "cell_type": "markdown",
   "metadata": {},
   "source": [
    "- Lets check normal dictionary first"
   ]
  },
  {
   "cell_type": "code",
   "execution_count": 2,
   "metadata": {},
   "outputs": [
    {
     "name": "stdout",
     "output_type": "stream",
     "text": [
      "myValue\n",
      "\n",
      "except Bloc of type KeyError\n"
     ]
    }
   ],
   "source": [
    "normal_dictionary = {\"myKey\": \"myValue\"}\n",
    "try:\n",
    "    print(normal_dictionary[\"myKey\"])\n",
    "    print(normal_dictionary[\"hello\"])\n",
    "\n",
    "except Exception as e:\n",
    "    print(f\"\\nexcept Bloc of type {e.__class__.__name__}\")\n"
   ]
  },
  {
   "cell_type": "markdown",
   "metadata": {},
   "source": [
    "- Now default dict"
   ]
  },
  {
   "cell_type": "code",
   "execution_count": 3,
   "metadata": {},
   "outputs": [
    {
     "name": "stdout",
     "output_type": "stream",
     "text": [
      "myValue\n",
      "0\n"
     ]
    }
   ],
   "source": [
    "my_defaultdict = defaultdict(lambda: 0)\n",
    "my_defaultdict[\"myKey\"] = \"myValue\"\n",
    "print(my_defaultdict[\"myKey\"])\n",
    "print(my_defaultdict[\"hello\"])\n"
   ]
  }
 ],
 "metadata": {
  "kernelspec": {
   "display_name": "Python 3",
   "language": "python",
   "name": "python3"
  },
  "language_info": {
   "codemirror_mode": {
    "name": "ipython",
    "version": 3
   },
   "file_extension": ".py",
   "mimetype": "text/x-python",
   "name": "python",
   "nbconvert_exporter": "python",
   "pygments_lexer": "ipython3",
   "version": "3.10.12"
  },
  "orig_nbformat": 4
 },
 "nbformat": 4,
 "nbformat_minor": 2
}
