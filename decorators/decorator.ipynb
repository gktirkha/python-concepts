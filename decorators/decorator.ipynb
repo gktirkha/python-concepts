{
 "cells": [
  {
   "cell_type": "markdown",
   "metadata": {},
   "source": [
    "# This Python Notebook Shows How To Use Decorators"
   ]
  },
  {
   "cell_type": "markdown",
   "metadata": {},
   "source": [
    "# 1. Returning a function"
   ]
  },
  {
   "cell_type": "code",
   "execution_count": 1,
   "metadata": {},
   "outputs": [],
   "source": [
    "def outer(name: str = \"Gautam\"):\n",
    "    def greet() -> None:\n",
    "        print(f\"Hello {name}\")\n",
    "\n",
    "    def welcome() -> None:\n",
    "        print(f\"Welcome {name}\")\n",
    "\n",
    "    if (name == \"Gautam\"):\n",
    "        return greet\n",
    "\n",
    "    return welcome  # Remember not to put () after function name\n"
   ]
  },
  {
   "cell_type": "markdown",
   "metadata": {},
   "source": [
    "# 2. Using Returned Functions"
   ]
  },
  {
   "cell_type": "code",
   "execution_count": 2,
   "metadata": {},
   "outputs": [],
   "source": [
    "foo = outer()  # Returns greet or welcome depending upon argument\n"
   ]
  },
  {
   "cell_type": "code",
   "execution_count": 3,
   "metadata": {},
   "outputs": [
    {
     "name": "stdout",
     "output_type": "stream",
     "text": [
      "Hello Gautam\n"
     ]
    }
   ],
   "source": [
    "foo()\n"
   ]
  },
  {
   "cell_type": "code",
   "execution_count": 4,
   "metadata": {},
   "outputs": [],
   "source": [
    "foo = outer(name=\"Rahul\")  # Returns greet or welcome depending upon argument\n"
   ]
  },
  {
   "cell_type": "code",
   "execution_count": 5,
   "metadata": {},
   "outputs": [
    {
     "name": "stdout",
     "output_type": "stream",
     "text": [
      "Welcome Rahul\n"
     ]
    }
   ],
   "source": [
    "foo()\n"
   ]
  },
  {
   "cell_type": "markdown",
   "metadata": {},
   "source": [
    "> In Single Line"
   ]
  },
  {
   "cell_type": "code",
   "execution_count": 6,
   "metadata": {},
   "outputs": [
    {
     "name": "stdout",
     "output_type": "stream",
     "text": [
      "Hello Gautam\n"
     ]
    }
   ],
   "source": [
    "outer()()\n"
   ]
  },
  {
   "cell_type": "code",
   "execution_count": 7,
   "metadata": {},
   "outputs": [
    {
     "name": "stdout",
     "output_type": "stream",
     "text": [
      "Welcome Rahul\n"
     ]
    }
   ],
   "source": [
    "outer(name=\"Rahul\")()\n"
   ]
  },
  {
   "cell_type": "markdown",
   "metadata": {},
   "source": [
    "# 3. Creating Decoration"
   ]
  },
  {
   "cell_type": "markdown",
   "metadata": {},
   "source": [
    "*Decoration Consist of three components*\n",
    "- decorator function\n",
    "- wrapper function\n",
    "- decoration\n",
    "\n",
    "```decorator function: ```it the function which will be called when we use decoration, typically it takes func as parameter <br>\n",
    "```Wrapper function: ``` the function which is executed or the function which is returned upon calling decoration<br>\n",
    "```decoration: ```the function to which we want to add functionality"
   ]
  },
  {
   "cell_type": "markdown",
   "metadata": {},
   "source": [
    "    1. Decoration Function without Arguments"
   ]
  },
  {
   "cell_type": "code",
   "execution_count": 8,
   "metadata": {},
   "outputs": [],
   "source": [
    "def decorator(func):        # Decorator\n",
    "    def wrapper():          # Wrapper\n",
    "        print(\"Started\")\n",
    "        func()\n",
    "        print(\"finished\")\n",
    "    return wrapper\n"
   ]
  },
  {
   "cell_type": "code",
   "execution_count": 9,
   "metadata": {},
   "outputs": [],
   "source": [
    "@decorator                  # Adding Decorator\n",
    "def decoration():           # Decoration\n",
    "    print(\"Hello World\")\n"
   ]
  },
  {
   "cell_type": "code",
   "execution_count": 10,
   "metadata": {},
   "outputs": [
    {
     "name": "stdout",
     "output_type": "stream",
     "text": [
      "Started\n",
      "Hello World\n",
      "finished\n"
     ]
    }
   ],
   "source": [
    "decoration()\n"
   ]
  },
  {
   "cell_type": "markdown",
   "metadata": {},
   "source": [
    "    2. Decoration Function with Arguments"
   ]
  },
  {
   "cell_type": "code",
   "execution_count": 11,
   "metadata": {},
   "outputs": [],
   "source": [
    "def decorator(func):                        # Decorator\n",
    "    def wrapper(*args, **kwargs):           # Wrapper\n",
    "        print(\"Started\")\n",
    "        func(*args, **kwargs)\n",
    "        print(\"finished\")\n",
    "\n",
    "    return wrapper\n"
   ]
  },
  {
   "cell_type": "code",
   "execution_count": 12,
   "metadata": {},
   "outputs": [],
   "source": [
    "@decorator                          # Adding Decorator\n",
    "def decoration(*args, **kwargs):    # Decoration\n",
    "    print(args)\n",
    "    print(kwargs)\n"
   ]
  },
  {
   "cell_type": "code",
   "execution_count": 13,
   "metadata": {},
   "outputs": [
    {
     "name": "stdout",
     "output_type": "stream",
     "text": [
      "Started\n",
      "('Gautam',)\n",
      "{'last_name': 'Tirkha'}\n",
      "finished\n"
     ]
    }
   ],
   "source": [
    "decoration(\"Gautam\", last_name=\"Tirkha\")\n"
   ]
  },
  {
   "cell_type": "markdown",
   "metadata": {},
   "source": [
    "    3. Other Method To Implement Decoration"
   ]
  },
  {
   "cell_type": "markdown",
   "metadata": {},
   "source": [
    "- For Decoration without arguments"
   ]
  },
  {
   "cell_type": "code",
   "execution_count": 14,
   "metadata": {},
   "outputs": [],
   "source": [
    "def decorator(func):        # Decorator\n",
    "    def wrapper():          # Wrapper\n",
    "        print(\"Started\")\n",
    "        func()\n",
    "        print(\"finished\")\n",
    "    return wrapper\n"
   ]
  },
  {
   "cell_type": "code",
   "execution_count": 15,
   "metadata": {},
   "outputs": [],
   "source": [
    "# not using @ annotation\n",
    "def decoration():   # Decoration\n",
    "    print(\"Hello World\")\n"
   ]
  },
  {
   "cell_type": "code",
   "execution_count": 16,
   "metadata": {},
   "outputs": [
    {
     "name": "stdout",
     "output_type": "stream",
     "text": [
      "Started\n",
      "Hello World\n",
      "finished\n"
     ]
    }
   ],
   "source": [
    "decoration_added_decorator = decorator(decoration)  # Returns Wrapper Function\n",
    "decoration_added_decorator()\n"
   ]
  },
  {
   "cell_type": "markdown",
   "metadata": {},
   "source": [
    "> In single line"
   ]
  },
  {
   "cell_type": "code",
   "execution_count": 17,
   "metadata": {},
   "outputs": [
    {
     "name": "stdout",
     "output_type": "stream",
     "text": [
      "Started\n",
      "Hello World\n",
      "finished\n"
     ]
    }
   ],
   "source": [
    "decorator(decoration)()\n"
   ]
  },
  {
   "cell_type": "markdown",
   "metadata": {},
   "source": [
    "- For decoration with arguments"
   ]
  },
  {
   "cell_type": "code",
   "execution_count": 18,
   "metadata": {},
   "outputs": [],
   "source": [
    "def decorator(func):                    # Decorator\n",
    "    def wrapper(*args, **kwargs):       # Wrapper\n",
    "        print(\"Started\")\n",
    "        func(*args, **kwargs)\n",
    "        print(\"finished\")\n",
    "\n",
    "    return wrapper\n"
   ]
  },
  {
   "cell_type": "code",
   "execution_count": 19,
   "metadata": {},
   "outputs": [],
   "source": [
    "# not using @ annotation\n",
    "def decoration(*args, **kwargs):    # Decoration\n",
    "    print(args)\n",
    "    print(kwargs)\n"
   ]
  },
  {
   "cell_type": "code",
   "execution_count": 20,
   "metadata": {},
   "outputs": [
    {
     "name": "stdout",
     "output_type": "stream",
     "text": [
      "Started\n",
      "('Gautam',)\n",
      "{'last_name': 'Tirkha'}\n",
      "finished\n"
     ]
    }
   ],
   "source": [
    "decoration_added_decorator = decorator(decoration)  # Returns Wrapper Function\n",
    "decoration_added_decorator(\"Gautam\", last_name=\"Tirkha\")\n"
   ]
  },
  {
   "cell_type": "markdown",
   "metadata": {},
   "source": [
    "> In Single Line"
   ]
  },
  {
   "cell_type": "code",
   "execution_count": 21,
   "metadata": {},
   "outputs": [
    {
     "name": "stdout",
     "output_type": "stream",
     "text": [
      "Started\n",
      "('Gautam',)\n",
      "{'last_name': 'Tirkha'}\n",
      "finished\n"
     ]
    }
   ],
   "source": [
    "decorator(decoration)(\"Gautam\", last_name=\"Tirkha\")\n"
   ]
  }
 ],
 "metadata": {
  "kernelspec": {
   "display_name": "Python 3",
   "language": "python",
   "name": "python3"
  },
  "language_info": {
   "codemirror_mode": {
    "name": "ipython",
    "version": 3
   },
   "file_extension": ".py",
   "mimetype": "text/x-python",
   "name": "python",
   "nbconvert_exporter": "python",
   "pygments_lexer": "ipython3",
   "version": "3.10.12"
  },
  "orig_nbformat": 4
 },
 "nbformat": 4,
 "nbformat_minor": 2
}
