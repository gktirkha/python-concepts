{
 "cells": [
  {
   "cell_type": "markdown",
   "metadata": {},
   "source": [
    "# Timeit\n",
    "timeit module is used to measure speed of a function/part of a code"
   ]
  },
  {
   "cell_type": "markdown",
   "metadata": {},
   "source": [
    "Library containing methods to measure speed"
   ]
  },
  {
   "cell_type": "code",
   "execution_count": 1,
   "metadata": {},
   "outputs": [],
   "source": [
    "import timeit"
   ]
  },
  {
   "cell_type": "markdown",
   "metadata": {},
   "source": [
    "Defining functions whose speeds are to be measured"
   ]
  },
  {
   "cell_type": "code",
   "execution_count": 2,
   "metadata": {},
   "outputs": [],
   "source": [
    "def f1(n):\n",
    "    return [str(num) for num in range(n)]\n",
    "\n",
    "def f2(n):\n",
    "    return list(map(str, range(n)))\n",
    "\n"
   ]
  },
  {
   "cell_type": "markdown",
   "metadata": {},
   "source": [
    "# Using timeit\n",
    "it takes following arguments\n",
    "- **lambda** : function to be tasted\n",
    "- **number** : number of times, lambda should be executed"
   ]
  },
  {
   "cell_type": "code",
   "execution_count": 4,
   "metadata": {},
   "outputs": [
    {
     "name": "stdout",
     "output_type": "stream",
     "text": [
      "Time taken by f1: 14.229046231000211 seconds\n",
      "Time taken by f2: 10.74102420700001 seconds\n"
     ]
    }
   ],
   "source": [
    "number = 10000\n",
    "\n",
    "time_f1 = timeit.timeit(lambda: f1(10000), number=number)\n",
    "print(\"Time taken by f1:\", time_f1, \"seconds\")\n",
    "\n",
    "time_f2 = timeit.timeit(lambda: f2(10000), number=number)\n",
    "print(\"Time taken by f2:\", time_f2, \"seconds\")"
   ]
  },
  {
   "cell_type": "markdown",
   "metadata": {},
   "source": [
    "Magic function for jupyter notebook users\n",
    "> add %%timeit at the top of any cell"
   ]
  },
  {
   "cell_type": "code",
   "execution_count": 5,
   "metadata": {},
   "outputs": [
    {
     "name": "stdout",
     "output_type": "stream",
     "text": [
      "140 µs ± 9.56 µs per loop (mean ± std. dev. of 7 runs, 10,000 loops each)\n"
     ]
    }
   ],
   "source": [
    "%%timeit\n",
    "f1(1000)"
   ]
  },
  {
   "cell_type": "code",
   "execution_count": 6,
   "metadata": {},
   "outputs": [
    {
     "name": "stdout",
     "output_type": "stream",
     "text": [
      "111 µs ± 8.9 µs per loop (mean ± std. dev. of 7 runs, 10,000 loops each)\n"
     ]
    }
   ],
   "source": [
    "%%timeit\n",
    "f2(1000)"
   ]
  }
 ],
 "metadata": {
  "kernelspec": {
   "display_name": ".venv",
   "language": "python",
   "name": "python3"
  },
  "language_info": {
   "codemirror_mode": {
    "name": "ipython",
    "version": 3
   },
   "file_extension": ".py",
   "mimetype": "text/x-python",
   "name": "python",
   "nbconvert_exporter": "python",
   "pygments_lexer": "ipython3",
   "version": "3.10.12"
  },
  "orig_nbformat": 4
 },
 "nbformat": 4,
 "nbformat_minor": 2
}
